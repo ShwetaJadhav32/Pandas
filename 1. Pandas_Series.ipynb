{
 "cells": [
  {
   "cell_type": "markdown",
   "id": "0f05d84d",
   "metadata": {},
   "source": [
    "## Pandas Series\n",
    "Basically a Series is very similar to a NumPy array(in fact it is built on top of the NumPy array object)\n",
    "\n",
    "### Basic Difference between Series and NumPy array from series\n",
    "\n",
    "    Series can have explicitly defined indices(labelled index)whereas NumPy arrays have only implicitly defined integers indices\n",
    "    \n",
    "    Therefore, it can be indexed by a label,instead of just an integer location.\n",
    "    \n",
    "    Series is heterogenous in nature so its not necessary to hold only numeric data for a series.\n",
    "    "
   ]
  },
  {
   "cell_type": "code",
   "execution_count": 2,
   "id": "e1fabb41",
   "metadata": {},
   "outputs": [],
   "source": [
    "import pandas as pd\n",
    "import numpy as np"
   ]
  },
  {
   "cell_type": "markdown",
   "id": "11e47a39",
   "metadata": {},
   "source": [
    "## Creating Pandas Series\n",
    "you can create using python list.numpy array and dictionary"
   ]
  },
  {
   "cell_type": "markdown",
   "id": "7ddec639",
   "metadata": {},
   "source": [
    "### a. Using python list"
   ]
  },
  {
   "cell_type": "code",
   "execution_count": 3,
   "id": "4e005b8d",
   "metadata": {},
   "outputs": [
    {
     "data": {
      "text/plain": [
       "['Aeronautical', 'Civil', 'Mechanical']"
      ]
     },
     "execution_count": 3,
     "metadata": {},
     "output_type": "execute_result"
    }
   ],
   "source": [
    "streams =['Aeronautical','Civil','Mechanical']\n",
    "streams"
   ]
  },
  {
   "cell_type": "code",
   "execution_count": 4,
   "id": "74819e3f",
   "metadata": {},
   "outputs": [
    {
     "data": {
      "text/plain": [
       "0    Aeronautical\n",
       "1           Civil\n",
       "2      Mechanical\n",
       "dtype: object"
      ]
     },
     "execution_count": 4,
     "metadata": {},
     "output_type": "execute_result"
    }
   ],
   "source": [
    "pd.Series(streams)"
   ]
  },
  {
   "cell_type": "code",
   "execution_count": 5,
   "id": "b64d9c85",
   "metadata": {},
   "outputs": [
    {
     "data": {
      "text/plain": [
       "3    Aeronautical\n",
       "4           Civil\n",
       "5      Mechanical\n",
       "dtype: object"
      ]
     },
     "execution_count": 5,
     "metadata": {},
     "output_type": "execute_result"
    }
   ],
   "source": [
    "pd.Series(streams,index=[3,4,5])  # Changing the index of series"
   ]
  },
  {
   "cell_type": "code",
   "execution_count": 6,
   "id": "c68984fe",
   "metadata": {},
   "outputs": [],
   "source": [
    "strength =[45,30,60] "
   ]
  },
  {
   "cell_type": "code",
   "execution_count": 7,
   "id": "7680cf3f",
   "metadata": {},
   "outputs": [
    {
     "data": {
      "text/plain": [
       "Aeronautical    45\n",
       "Civil           30\n",
       "Mechanical      60\n",
       "dtype: int64"
      ]
     },
     "execution_count": 7,
     "metadata": {},
     "output_type": "execute_result"
    }
   ],
   "source": [
    "pd.Series(data=strength,index=streams)"
   ]
  },
  {
   "cell_type": "code",
   "execution_count": 8,
   "id": "61e87d05",
   "metadata": {},
   "outputs": [
    {
     "data": {
      "text/plain": [
       "Aeronautical    45\n",
       "Civil           30\n",
       "Mechanical      60\n",
       "dtype: int64"
      ]
     },
     "execution_count": 8,
     "metadata": {},
     "output_type": "execute_result"
    }
   ],
   "source": [
    "pd.Series(strength,streams)"
   ]
  },
  {
   "cell_type": "markdown",
   "id": "c032f823",
   "metadata": {},
   "source": [
    "### b. Using NumPy Array"
   ]
  },
  {
   "cell_type": "code",
   "execution_count": 9,
   "id": "ee1873a1",
   "metadata": {},
   "outputs": [
    {
     "data": {
      "text/plain": [
       "array([45, 30, 60])"
      ]
     },
     "execution_count": 9,
     "metadata": {},
     "output_type": "execute_result"
    }
   ],
   "source": [
    "num_strength = np.array(strength)\n",
    "num_strength"
   ]
  },
  {
   "cell_type": "code",
   "execution_count": 10,
   "id": "93a4f2ba",
   "metadata": {},
   "outputs": [
    {
     "data": {
      "text/plain": [
       "numpy.ndarray"
      ]
     },
     "execution_count": 10,
     "metadata": {},
     "output_type": "execute_result"
    }
   ],
   "source": [
    "type(num_strength)"
   ]
  },
  {
   "cell_type": "code",
   "execution_count": 11,
   "id": "ce3770dc",
   "metadata": {},
   "outputs": [
    {
     "data": {
      "text/plain": [
       "0    45\n",
       "1    30\n",
       "2    60\n",
       "dtype: int32"
      ]
     },
     "execution_count": 11,
     "metadata": {},
     "output_type": "execute_result"
    }
   ],
   "source": [
    "pd.Series(num_strength)"
   ]
  },
  {
   "cell_type": "code",
   "execution_count": 12,
   "id": "3653441a",
   "metadata": {},
   "outputs": [
    {
     "data": {
      "text/plain": [
       "Aeronautical    45\n",
       "Civil           30\n",
       "Mechanical      60\n",
       "dtype: int32"
      ]
     },
     "execution_count": 12,
     "metadata": {},
     "output_type": "execute_result"
    }
   ],
   "source": [
    "pd.Series(num_strength,streams)"
   ]
  },
  {
   "cell_type": "markdown",
   "id": "cea3fd96",
   "metadata": {},
   "source": [
    "## c. Using dictionary"
   ]
  },
  {
   "cell_type": "code",
   "execution_count": 13,
   "id": "3ce04019",
   "metadata": {},
   "outputs": [
    {
     "data": {
      "text/plain": [
       "{'Aeronautical': 45, 'Civil': 30, 'Mechanical': 60}"
      ]
     },
     "execution_count": 13,
     "metadata": {},
     "output_type": "execute_result"
    }
   ],
   "source": [
    "dictionary={'Aeronautical' : 45,'Civil' : 30,'Mechanical' : 60}\n",
    "dictionary"
   ]
  },
  {
   "cell_type": "code",
   "execution_count": 14,
   "id": "5bd0910a",
   "metadata": {},
   "outputs": [
    {
     "data": {
      "text/plain": [
       "Aeronautical    45\n",
       "Civil           30\n",
       "Mechanical      60\n",
       "dtype: int64"
      ]
     },
     "execution_count": 14,
     "metadata": {},
     "output_type": "execute_result"
    }
   ],
   "source": [
    "pd.Series(dictionary)"
   ]
  },
  {
   "cell_type": "code",
   "execution_count": 15,
   "id": "6a71860d",
   "metadata": {},
   "outputs": [
    {
     "data": {
      "text/plain": [
       "0                                                  10\n",
       "1                                              Shweta\n",
       "2                                                 4.5\n",
       "3                                           (a, b, c)\n",
       "4    {'Sanvi': 1, 'Parth': 2, 'Swara': 3, 'Vivan': 4}\n",
       "5                             <built-in function len>\n",
       "6                             <built-in function max>\n",
       "dtype: object"
      ]
     },
     "execution_count": 15,
     "metadata": {},
     "output_type": "execute_result"
    }
   ],
   "source": [
    "pd.Series([10,'Shweta',4.5,('a','b','c'),{'Sanvi':1,'Parth':2,'Swara':3,'Vivan':4},len,max])\n"
   ]
  },
  {
   "cell_type": "code",
   "execution_count": null,
   "id": "7d47785f",
   "metadata": {},
   "outputs": [],
   "source": []
  },
  {
   "cell_type": "markdown",
   "id": "ff837eb5",
   "metadata": {},
   "source": [
    "## Using Index\n",
    "The key to using Series in understanding its index.PAndas makes use of these index names or numbers by allowing for fast look ups of information(works like a hash table or dictionary)"
   ]
  },
  {
   "cell_type": "code",
   "execution_count": 16,
   "id": "a6b56650",
   "metadata": {},
   "outputs": [
    {
     "data": {
      "text/plain": [
       "Civil         4\n",
       "Mechanical    6\n",
       "IT            3\n",
       "CS            2\n",
       "dtype: int64"
      ]
     },
     "execution_count": 16,
     "metadata": {},
     "output_type": "execute_result"
    }
   ],
   "source": [
    "no_of_labs1=pd.Series([4,6,3,2],['Civil','Mechanical','IT','CS'])\n",
    "no_of_labs1"
   ]
  },
  {
   "cell_type": "code",
   "execution_count": 17,
   "id": "a6497221",
   "metadata": {},
   "outputs": [
    {
     "data": {
      "text/plain": [
       "Civil         4\n",
       "Mechanical    6\n",
       "petrolium     2\n",
       "CS            3\n",
       "dtype: int64"
      ]
     },
     "execution_count": 17,
     "metadata": {},
     "output_type": "execute_result"
    }
   ],
   "source": [
    "no_of_labs2=pd.Series([4,6,2,3],['Civil','Mechanical','petrolium','CS'])\n",
    "no_of_labs2"
   ]
  },
  {
   "cell_type": "code",
   "execution_count": 18,
   "id": "6d8892e9",
   "metadata": {},
   "outputs": [
    {
     "data": {
      "text/plain": [
       "CS             5.0\n",
       "Civil          8.0\n",
       "IT             NaN\n",
       "Mechanical    12.0\n",
       "petrolium      NaN\n",
       "dtype: float64"
      ]
     },
     "execution_count": 18,
     "metadata": {},
     "output_type": "execute_result"
    }
   ],
   "source": [
    "no_of_labs1 + no_of_labs2"
   ]
  },
  {
   "cell_type": "code",
   "execution_count": 19,
   "id": "df917004",
   "metadata": {},
   "outputs": [
    {
     "data": {
      "text/plain": [
       "CS             6.0\n",
       "Civil         16.0\n",
       "IT             NaN\n",
       "Mechanical    36.0\n",
       "petrolium      NaN\n",
       "dtype: float64"
      ]
     },
     "execution_count": 19,
     "metadata": {},
     "output_type": "execute_result"
    }
   ],
   "source": [
    "no_of_labs1 * no_of_labs2"
   ]
  },
  {
   "cell_type": "code",
   "execution_count": 20,
   "id": "7e06bc96",
   "metadata": {},
   "outputs": [
    {
     "data": {
      "text/plain": [
       "4"
      ]
     },
     "execution_count": 20,
     "metadata": {},
     "output_type": "execute_result"
    }
   ],
   "source": [
    "no_of_labs1['Civil']   ## To know the how many student take Civil as Specilization  "
   ]
  },
  {
   "cell_type": "code",
   "execution_count": 22,
   "id": "f3d09fc8",
   "metadata": {},
   "outputs": [
    {
     "data": {
      "text/plain": [
       "CS           -1.0\n",
       "Civil         0.0\n",
       "IT            NaN\n",
       "Mechanical    0.0\n",
       "petrolium     NaN\n",
       "dtype: float64"
      ]
     },
     "execution_count": 22,
     "metadata": {},
     "output_type": "execute_result"
    }
   ],
   "source": [
    "result=no_of_labs1 - no_of_labs2\n",
    "result"
   ]
  },
  {
   "cell_type": "markdown",
   "id": "827bb4ab",
   "metadata": {},
   "source": [
    "## Quiz 1\n",
    "Perform the following operations on the final result series and observev the difference\n",
    "\n",
    "count()\n",
    "shape()"
   ]
  },
  {
   "cell_type": "code",
   "execution_count": 26,
   "id": "a7be0a3d",
   "metadata": {},
   "outputs": [
    {
     "data": {
      "text/plain": [
       "3"
      ]
     },
     "execution_count": 26,
     "metadata": {},
     "output_type": "execute_result"
    }
   ],
   "source": [
    "result.count()"
   ]
  },
  {
   "cell_type": "code",
   "execution_count": 27,
   "id": "22d20734",
   "metadata": {},
   "outputs": [
    {
     "data": {
      "text/plain": [
       "<bound method Series.count of CS           -1.0\n",
       "Civil         0.0\n",
       "IT            NaN\n",
       "Mechanical    0.0\n",
       "petrolium     NaN\n",
       "dtype: float64>"
      ]
     },
     "execution_count": 27,
     "metadata": {},
     "output_type": "execute_result"
    }
   ],
   "source": [
    "# result.count     ## it give other answer"
   ]
  },
  {
   "cell_type": "code",
   "execution_count": 25,
   "id": "c68029d6",
   "metadata": {},
   "outputs": [
    {
     "data": {
      "text/plain": [
       "(5,)"
      ]
     },
     "execution_count": 25,
     "metadata": {},
     "output_type": "execute_result"
    }
   ],
   "source": [
    "result.shape"
   ]
  }
 ],
 "metadata": {
  "kernelspec": {
   "display_name": "Python 3 (ipykernel)",
   "language": "python",
   "name": "python3"
  },
  "language_info": {
   "codemirror_mode": {
    "name": "ipython",
    "version": 3
   },
   "file_extension": ".py",
   "mimetype": "text/x-python",
   "name": "python",
   "nbconvert_exporter": "python",
   "pygments_lexer": "ipython3",
   "version": "3.11.5"
  }
 },
 "nbformat": 4,
 "nbformat_minor": 5
}
